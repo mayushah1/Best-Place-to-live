{
 "cells": [
  {
   "cell_type": "markdown",
   "metadata": {},
   "source": [
    "# Best Place to Live by School District\n"
   ]
  },
  {
   "cell_type": "code",
   "execution_count": 83,
   "metadata": {},
   "outputs": [],
   "source": [
    "# Dependencies\n",
    "import matplotlib.pyplot as plt\n",
    "import requests as req\n",
    "import pandas as pd\n",
    "from localenv import api_key\n",
    "from bs4 import BeautifulSoup as bs\n",
    "import pymongo"
   ]
  },
  {
   "cell_type": "code",
   "execution_count": 84,
   "metadata": {},
   "outputs": [],
   "source": [
    " #Initialize PyMongo to work with MongoDBs\n",
    "conn = 'mongodb://localhost:27017'\n",
    "client = pymongo.MongoClient(conn)"
   ]
  },
  {
   "cell_type": "code",
   "execution_count": 85,
   "metadata": {},
   "outputs": [],
   "source": [
    "# Define database and collection\n",
    "db = client.school_db\n",
    "collection = db.lists"
   ]
  },
  {
   "cell_type": "code",
   "execution_count": 86,
   "metadata": {},
   "outputs": [],
   "source": [
    "url = \"https://api.greatschools.org/schools/CA/\"\n",
    "county_path=\"list_of_counties.csv\"\n",
    "counties_df = pd.read_csv(county_path)\n",
    "counties_list = list(counties[\"county_name\"])\n",
    "key = api_key"
   ]
  },
  {
   "cell_type": "code",
   "execution_count": 87,
   "metadata": {},
   "outputs": [
    {
     "name": "stdout",
     "output_type": "stream",
     "text": [
      "https://api.greatschools.org/schools/CA/Alameda?key=23fbd52c61d9c1a8b4a16c58d4c22229\n",
      "https://api.greatschools.org/schools/CA/Alpine?key=23fbd52c61d9c1a8b4a16c58d4c22229\n",
      "https://api.greatschools.org/schools/CA/Amador?key=23fbd52c61d9c1a8b4a16c58d4c22229\n",
      "https://api.greatschools.org/schools/CA/Butte?key=23fbd52c61d9c1a8b4a16c58d4c22229\n",
      "https://api.greatschools.org/schools/CA/Calaveras?key=23fbd52c61d9c1a8b4a16c58d4c22229\n",
      "https://api.greatschools.org/schools/CA/Colusa?key=23fbd52c61d9c1a8b4a16c58d4c22229\n",
      "https://api.greatschools.org/schools/CA/ContraCosta?key=23fbd52c61d9c1a8b4a16c58d4c22229\n",
      "https://api.greatschools.org/schools/CA/DelNorte?key=23fbd52c61d9c1a8b4a16c58d4c22229\n",
      "https://api.greatschools.org/schools/CA/ElDorado?key=23fbd52c61d9c1a8b4a16c58d4c22229\n",
      "https://api.greatschools.org/schools/CA/Fresno?key=23fbd52c61d9c1a8b4a16c58d4c22229\n",
      "https://api.greatschools.org/schools/CA/Glenn?key=23fbd52c61d9c1a8b4a16c58d4c22229\n",
      "https://api.greatschools.org/schools/CA/Humboldt?key=23fbd52c61d9c1a8b4a16c58d4c22229\n",
      "https://api.greatschools.org/schools/CA/Imperial?key=23fbd52c61d9c1a8b4a16c58d4c22229\n",
      "https://api.greatschools.org/schools/CA/Inyo?key=23fbd52c61d9c1a8b4a16c58d4c22229\n",
      "https://api.greatschools.org/schools/CA/Kern?key=23fbd52c61d9c1a8b4a16c58d4c22229\n",
      "https://api.greatschools.org/schools/CA/Kings?key=23fbd52c61d9c1a8b4a16c58d4c22229\n",
      "https://api.greatschools.org/schools/CA/Lake?key=23fbd52c61d9c1a8b4a16c58d4c22229\n",
      "https://api.greatschools.org/schools/CA/Lassen?key=23fbd52c61d9c1a8b4a16c58d4c22229\n",
      "https://api.greatschools.org/schools/CA/LosAngeles?key=23fbd52c61d9c1a8b4a16c58d4c22229\n",
      "https://api.greatschools.org/schools/CA/Madera?key=23fbd52c61d9c1a8b4a16c58d4c22229\n",
      "https://api.greatschools.org/schools/CA/Marin?key=23fbd52c61d9c1a8b4a16c58d4c22229\n",
      "https://api.greatschools.org/schools/CA/Mariposa?key=23fbd52c61d9c1a8b4a16c58d4c22229\n",
      "https://api.greatschools.org/schools/CA/Mendocino?key=23fbd52c61d9c1a8b4a16c58d4c22229\n",
      "https://api.greatschools.org/schools/CA/Merced?key=23fbd52c61d9c1a8b4a16c58d4c22229\n",
      "https://api.greatschools.org/schools/CA/Modoc?key=23fbd52c61d9c1a8b4a16c58d4c22229\n",
      "https://api.greatschools.org/schools/CA/Mono?key=23fbd52c61d9c1a8b4a16c58d4c22229\n",
      "https://api.greatschools.org/schools/CA/Monterey?key=23fbd52c61d9c1a8b4a16c58d4c22229\n",
      "https://api.greatschools.org/schools/CA/Napa?key=23fbd52c61d9c1a8b4a16c58d4c22229\n",
      "https://api.greatschools.org/schools/CA/Nevada?key=23fbd52c61d9c1a8b4a16c58d4c22229\n",
      "https://api.greatschools.org/schools/CA/Orange?key=23fbd52c61d9c1a8b4a16c58d4c22229\n",
      "https://api.greatschools.org/schools/CA/Placer?key=23fbd52c61d9c1a8b4a16c58d4c22229\n",
      "https://api.greatschools.org/schools/CA/Plumas?key=23fbd52c61d9c1a8b4a16c58d4c22229\n",
      "https://api.greatschools.org/schools/CA/Riverside?key=23fbd52c61d9c1a8b4a16c58d4c22229\n",
      "https://api.greatschools.org/schools/CA/Sacramento?key=23fbd52c61d9c1a8b4a16c58d4c22229\n",
      "https://api.greatschools.org/schools/CA/SanBenito?key=23fbd52c61d9c1a8b4a16c58d4c22229\n",
      "https://api.greatschools.org/schools/CA/SanBernardino?key=23fbd52c61d9c1a8b4a16c58d4c22229\n",
      "https://api.greatschools.org/schools/CA/SanDiego?key=23fbd52c61d9c1a8b4a16c58d4c22229\n",
      "https://api.greatschools.org/schools/CA/SanFrancisco?key=23fbd52c61d9c1a8b4a16c58d4c22229\n",
      "https://api.greatschools.org/schools/CA/SanJoaquin?key=23fbd52c61d9c1a8b4a16c58d4c22229\n",
      "https://api.greatschools.org/schools/CA/SanLuisObispo?key=23fbd52c61d9c1a8b4a16c58d4c22229\n",
      "https://api.greatschools.org/schools/CA/SanMateo?key=23fbd52c61d9c1a8b4a16c58d4c22229\n",
      "https://api.greatschools.org/schools/CA/SantaBarbara?key=23fbd52c61d9c1a8b4a16c58d4c22229\n",
      "https://api.greatschools.org/schools/CA/SantaClara?key=23fbd52c61d9c1a8b4a16c58d4c22229\n",
      "https://api.greatschools.org/schools/CA/SantaCruz?key=23fbd52c61d9c1a8b4a16c58d4c22229\n",
      "https://api.greatschools.org/schools/CA/Shasta?key=23fbd52c61d9c1a8b4a16c58d4c22229\n",
      "https://api.greatschools.org/schools/CA/Sierra?key=23fbd52c61d9c1a8b4a16c58d4c22229\n",
      "https://api.greatschools.org/schools/CA/Siskiyou?key=23fbd52c61d9c1a8b4a16c58d4c22229\n",
      "https://api.greatschools.org/schools/CA/Solano?key=23fbd52c61d9c1a8b4a16c58d4c22229\n",
      "https://api.greatschools.org/schools/CA/Sonoma?key=23fbd52c61d9c1a8b4a16c58d4c22229\n",
      "https://api.greatschools.org/schools/CA/Stanislaus?key=23fbd52c61d9c1a8b4a16c58d4c22229\n",
      "https://api.greatschools.org/schools/CA/Sutter?key=23fbd52c61d9c1a8b4a16c58d4c22229\n",
      "https://api.greatschools.org/schools/CA/Tehama?key=23fbd52c61d9c1a8b4a16c58d4c22229\n",
      "https://api.greatschools.org/schools/CA/Trinity?key=23fbd52c61d9c1a8b4a16c58d4c22229\n",
      "https://api.greatschools.org/schools/CA/Tulare?key=23fbd52c61d9c1a8b4a16c58d4c22229\n",
      "https://api.greatschools.org/schools/CA/Tuolumne?key=23fbd52c61d9c1a8b4a16c58d4c22229\n",
      "https://api.greatschools.org/schools/CA/Ventura?key=23fbd52c61d9c1a8b4a16c58d4c22229\n",
      "https://api.greatschools.org/schools/CA/Yolo?key=23fbd52c61d9c1a8b4a16c58d4c22229\n",
      "https://api.greatschools.org/schools/CA/Yuba?key=23fbd52c61d9c1a8b4a16c58d4c22229\n"
     ]
    }
   ],
   "source": [
    "for county in counties_list:\n",
    "    query_url = f\"{url}{county}?key={api_key}\"\n",
    "    print(query_url)\n",
    "    # Retrieve page with the requests module\n",
    "    response = req.get(query_url)\n",
    "    # Create BeautifulSoup object; parse with 'lxml'\n",
    "    soup = bs(response.text, 'lxml')\n",
    "    #print(soup.prettify())\n",
    "    results = soup.find_all('school')\n",
    "    for result in results:\n",
    "\n",
    "            school_name = result.find('name').text\n",
    "            school_type = result.find('type').text\n",
    "            if result.gsrating is not None:\n",
    "                gsrating = result.gsrating.text\n",
    "            else:\n",
    "                gsrating = \"NA\"\n",
    "            if result.parentrating is not None:\n",
    "                parentrating = result.parentrating.text\n",
    "            else:\n",
    "                gsrating = \"NA\"\n",
    "            if result.enrollment is not None:\n",
    "                enrollment = result.enrollment.text\n",
    "            else:\n",
    "                enrollment = \"NA\"\n",
    "            graderange = result.graderange.text\n",
    "            lat = result.lat.text\n",
    "            lon = result.lon.text\n",
    "            city = result.find('city').text\n",
    "            website = result.find('website').text\n",
    "            phone = result.phone.text\n",
    "            # Dictionary to be inserted into MongoDB\n",
    "            post = {\n",
    "                    'school_name' : school_name,\n",
    "                    'school_type' : school_type,\n",
    "                    'gsrating' : gsrating,\n",
    "                    'parentrating' : parentrating,\n",
    "                    'graderange' : graderange,\n",
    "                    'enrollment' : enrollment,\n",
    "                    'lat' : lat,\n",
    "                    'lon' : lon,\n",
    "                    'city' : city,\n",
    "                    'website' : website,\n",
    "                    'phone': phone   \n",
    "                    }\n",
    "\n",
    "            # Insert dictionary into MongoDB as a document\n",
    "            collection.insert_one(post)\n",
    "\n"
   ]
  },
  {
   "cell_type": "code",
   "execution_count": null,
   "metadata": {},
   "outputs": [],
   "source": []
  }
 ],
 "metadata": {
  "kernelspec": {
   "display_name": "Python [conda env:pythondata2]",
   "language": "python",
   "name": "conda-env-pythondata2-py"
  },
  "language_info": {
   "codemirror_mode": {
    "name": "ipython",
    "version": 3
   },
   "file_extension": ".py",
   "mimetype": "text/x-python",
   "name": "python",
   "nbconvert_exporter": "python",
   "pygments_lexer": "ipython3",
   "version": "3.6.4"
  }
 },
 "nbformat": 4,
 "nbformat_minor": 2
}
