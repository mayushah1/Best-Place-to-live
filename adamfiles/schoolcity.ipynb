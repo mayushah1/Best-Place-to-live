{
 "cells": [
  {
   "cell_type": "code",
   "execution_count": 1,
   "metadata": {},
   "outputs": [],
   "source": [
    "import pandas as pd\n",
    "import numpy as np\n",
    "import seaborn as sns\n",
    "import matplotlib.pyplot as plt\n",
    "import os"
   ]
  },
  {
   "cell_type": "code",
   "execution_count": 2,
   "metadata": {},
   "outputs": [],
   "source": [
    "school_path = os.path.join('school_data.csv')"
   ]
  },
  {
   "cell_type": "code",
   "execution_count": 3,
   "metadata": {},
   "outputs": [],
   "source": [
    "school_df = pd.read_csv(school_path)"
   ]
  },
  {
   "cell_type": "code",
   "execution_count": 4,
   "metadata": {},
   "outputs": [],
   "source": [
    "# school_data_df = school_data_df.dropna()"
   ]
  },
  {
   "cell_type": "code",
   "execution_count": 5,
   "metadata": {},
   "outputs": [
    {
     "data": {
      "text/html": [
       "<div>\n",
       "<style scoped>\n",
       "    .dataframe tbody tr th:only-of-type {\n",
       "        vertical-align: middle;\n",
       "    }\n",
       "\n",
       "    .dataframe tbody tr th {\n",
       "        vertical-align: top;\n",
       "    }\n",
       "\n",
       "    .dataframe thead th {\n",
       "        text-align: right;\n",
       "    }\n",
       "</style>\n",
       "<table border=\"1\" class=\"dataframe\">\n",
       "  <thead>\n",
       "    <tr style=\"text-align: right;\">\n",
       "      <th></th>\n",
       "      <th>Unnamed: 0</th>\n",
       "      <th>_id</th>\n",
       "      <th>city</th>\n",
       "      <th>enrollment</th>\n",
       "      <th>graderange</th>\n",
       "      <th>gsrating</th>\n",
       "      <th>lat</th>\n",
       "      <th>lon</th>\n",
       "      <th>parentrating</th>\n",
       "      <th>phone</th>\n",
       "      <th>school_name</th>\n",
       "      <th>school_type</th>\n",
       "      <th>website</th>\n",
       "    </tr>\n",
       "  </thead>\n",
       "  <tbody>\n",
       "    <tr>\n",
       "      <th>0</th>\n",
       "      <td>0</td>\n",
       "      <td>5af7493818e4261b6296a900</td>\n",
       "      <td>Adelanto</td>\n",
       "      <td>469.0</td>\n",
       "      <td>K-6</td>\n",
       "      <td>1.0</td>\n",
       "      <td>34.576157</td>\n",
       "      <td>-117.409490</td>\n",
       "      <td>3</td>\n",
       "      <td>(760) 246-5892</td>\n",
       "      <td>Adelanto Elementary School</td>\n",
       "      <td>public</td>\n",
       "      <td>http://www.aesd.net/</td>\n",
       "    </tr>\n",
       "    <tr>\n",
       "      <th>1</th>\n",
       "      <td>1</td>\n",
       "      <td>5af7493818e4261b6296a901</td>\n",
       "      <td>Adelanto</td>\n",
       "      <td>1750.0</td>\n",
       "      <td>9-12</td>\n",
       "      <td>NaN</td>\n",
       "      <td>34.531548</td>\n",
       "      <td>-117.441284</td>\n",
       "      <td>3</td>\n",
       "      <td>(760) 246-3909</td>\n",
       "      <td>Adelanto High School</td>\n",
       "      <td>public</td>\n",
       "      <td>http://ahs.vvuhsd.org/</td>\n",
       "    </tr>\n",
       "    <tr>\n",
       "      <th>2</th>\n",
       "      <td>2</td>\n",
       "      <td>5af7493818e4261b6296a902</td>\n",
       "      <td>Adelanto</td>\n",
       "      <td>NaN</td>\n",
       "      <td>1-12</td>\n",
       "      <td>NaN</td>\n",
       "      <td>34.519000</td>\n",
       "      <td>-117.406230</td>\n",
       "      <td>3</td>\n",
       "      <td>(760) 530-1576</td>\n",
       "      <td>Carpe Diem Learning Academy</td>\n",
       "      <td>private</td>\n",
       "      <td>NaN</td>\n",
       "    </tr>\n",
       "    <tr>\n",
       "      <th>3</th>\n",
       "      <td>3</td>\n",
       "      <td>5af7493818e4261b6296a903</td>\n",
       "      <td>Adelanto</td>\n",
       "      <td>391.0</td>\n",
       "      <td>7-8</td>\n",
       "      <td>1.0</td>\n",
       "      <td>34.511086</td>\n",
       "      <td>-117.434700</td>\n",
       "      <td>3</td>\n",
       "      <td>(760) 530-1950</td>\n",
       "      <td>Columbia Middle School</td>\n",
       "      <td>public</td>\n",
       "      <td>NaN</td>\n",
       "    </tr>\n",
       "    <tr>\n",
       "      <th>4</th>\n",
       "      <td>4</td>\n",
       "      <td>5af7493818e4261b6296a904</td>\n",
       "      <td>Adelanto</td>\n",
       "      <td>512.0</td>\n",
       "      <td>K-6</td>\n",
       "      <td>NaN</td>\n",
       "      <td>34.537495</td>\n",
       "      <td>-117.460600</td>\n",
       "      <td>2</td>\n",
       "      <td>NaN</td>\n",
       "      <td>Desert Trails Elementary School</td>\n",
       "      <td>charter</td>\n",
       "      <td>NaN</td>\n",
       "    </tr>\n",
       "  </tbody>\n",
       "</table>\n",
       "</div>"
      ],
      "text/plain": [
       "   Unnamed: 0                       _id      city  enrollment graderange  \\\n",
       "0           0  5af7493818e4261b6296a900  Adelanto       469.0        K-6   \n",
       "1           1  5af7493818e4261b6296a901  Adelanto      1750.0       9-12   \n",
       "2           2  5af7493818e4261b6296a902  Adelanto         NaN       1-12   \n",
       "3           3  5af7493818e4261b6296a903  Adelanto       391.0        7-8   \n",
       "4           4  5af7493818e4261b6296a904  Adelanto       512.0        K-6   \n",
       "\n",
       "   gsrating        lat         lon  parentrating           phone  \\\n",
       "0       1.0  34.576157 -117.409490             3  (760) 246-5892   \n",
       "1       NaN  34.531548 -117.441284             3  (760) 246-3909   \n",
       "2       NaN  34.519000 -117.406230             3  (760) 530-1576   \n",
       "3       1.0  34.511086 -117.434700             3  (760) 530-1950   \n",
       "4       NaN  34.537495 -117.460600             2             NaN   \n",
       "\n",
       "                       school_name school_type                 website  \n",
       "0       Adelanto Elementary School      public    http://www.aesd.net/  \n",
       "1             Adelanto High School      public  http://ahs.vvuhsd.org/  \n",
       "2      Carpe Diem Learning Academy     private                     NaN  \n",
       "3           Columbia Middle School      public                     NaN  \n",
       "4  Desert Trails Elementary School     charter                     NaN  "
      ]
     },
     "execution_count": 5,
     "metadata": {},
     "output_type": "execute_result"
    }
   ],
   "source": [
    "school_df.head()"
   ]
  },
  {
   "cell_type": "code",
   "execution_count": 24,
   "metadata": {},
   "outputs": [],
   "source": [
    "city_df = school_df.groupby('city')"
   ]
  },
  {
   "cell_type": "code",
   "execution_count": 21,
   "metadata": {},
   "outputs": [
    {
     "ename": "AttributeError",
     "evalue": "'DataFrameGroupBy' object has no attribute 'unique'",
     "output_type": "error",
     "traceback": [
      "\u001b[0;31m---------------------------------------------------------------------------\u001b[0m",
      "\u001b[0;31mAttributeError\u001b[0m                            Traceback (most recent call last)",
      "\u001b[0;32m<ipython-input-21-252587bf1752>\u001b[0m in \u001b[0;36m<module>\u001b[0;34m()\u001b[0m\n\u001b[1;32m      1\u001b[0m \u001b[0maverage_enrollment\u001b[0m \u001b[0;34m=\u001b[0m \u001b[0mcity_df\u001b[0m\u001b[0;34m[\u001b[0m\u001b[0;34m'enrollment'\u001b[0m\u001b[0;34m]\u001b[0m\u001b[0;34m.\u001b[0m\u001b[0mmean\u001b[0m\u001b[0;34m(\u001b[0m\u001b[0;34m)\u001b[0m\u001b[0;34m\u001b[0m\u001b[0m\n\u001b[1;32m      2\u001b[0m \u001b[0maverage_rating\u001b[0m \u001b[0;34m=\u001b[0m \u001b[0mcity_df\u001b[0m\u001b[0;34m[\u001b[0m\u001b[0;34m'parentrating'\u001b[0m\u001b[0;34m]\u001b[0m\u001b[0;34m.\u001b[0m\u001b[0mmean\u001b[0m\u001b[0;34m(\u001b[0m\u001b[0;34m)\u001b[0m\u001b[0;34m\u001b[0m\u001b[0m\n\u001b[0;32m----> 3\u001b[0;31m \u001b[0mschool_type\u001b[0m \u001b[0;34m=\u001b[0m \u001b[0mcity_df\u001b[0m\u001b[0;34m[\u001b[0m\u001b[0;34m'school_type'\u001b[0m\u001b[0;34m]\u001b[0m\u001b[0;34m.\u001b[0m\u001b[0munique\u001b[0m\u001b[0;34m(\u001b[0m\u001b[0;34m)\u001b[0m\u001b[0;34m\u001b[0m\u001b[0m\n\u001b[0m\u001b[1;32m      4\u001b[0m \u001b[0mgraderange\u001b[0m \u001b[0;34m=\u001b[0m \u001b[0mcity_df\u001b[0m\u001b[0;34m[\u001b[0m\u001b[0;34m'graderange'\u001b[0m\u001b[0;34m]\u001b[0m\u001b[0;34m.\u001b[0m\u001b[0munique\u001b[0m\u001b[0;34m(\u001b[0m\u001b[0;34m)\u001b[0m\u001b[0;34m\u001b[0m\u001b[0m\n\u001b[1;32m      5\u001b[0m \u001b[0mschool\u001b[0m \u001b[0;34m=\u001b[0m \u001b[0mcity_df\u001b[0m\u001b[0;34m[\u001b[0m\u001b[0;34m'school_name'\u001b[0m\u001b[0;34m]\u001b[0m\u001b[0;34m.\u001b[0m\u001b[0munique\u001b[0m\u001b[0;34m(\u001b[0m\u001b[0;34m)\u001b[0m\u001b[0;34m\u001b[0m\u001b[0m\n",
      "\u001b[0;32m~/anaconda3/envs/myenvironment/lib/python3.6/site-packages/pandas/core/groupby.py\u001b[0m in \u001b[0;36m__getattr__\u001b[0;34m(self, attr)\u001b[0m\n\u001b[1;32m    674\u001b[0m \u001b[0;34m\u001b[0m\u001b[0m\n\u001b[1;32m    675\u001b[0m         raise AttributeError(\"%r object has no attribute %r\" %\n\u001b[0;32m--> 676\u001b[0;31m                              (type(self).__name__, attr))\n\u001b[0m\u001b[1;32m    677\u001b[0m \u001b[0;34m\u001b[0m\u001b[0m\n\u001b[1;32m    678\u001b[0m     \u001b[0mplot\u001b[0m \u001b[0;34m=\u001b[0m \u001b[0mproperty\u001b[0m\u001b[0;34m(\u001b[0m\u001b[0mGroupByPlot\u001b[0m\u001b[0;34m)\u001b[0m\u001b[0;34m\u001b[0m\u001b[0m\n",
      "\u001b[0;31mAttributeError\u001b[0m: 'DataFrameGroupBy' object has no attribute 'unique'"
     ]
    }
   ],
   "source": [
    "average_enrollment = city_df['enrollment'].mean()\n",
    "average_rating = city_df['parentrating'].mean()\n",
    "school_type = city_df['school_type'].unique()\n",
    "graderange = city_df['graderange'].unique()\n",
    "school = city_df['school_name'].unique()\n",
    "gsrating = city_df['gsrating'].mean()\n",
    "latitude = city_df['lat'].mean()\n",
    "longitude = city_df['lon'].mean()\n",
    "# city = city_df['city'].unique()"
   ]
  },
  {
   "cell_type": "code",
   "execution_count": 17,
   "metadata": {},
   "outputs": [],
   "source": [
    "city_group = pd.DataFrame({'enrollment':average_enrollment,\n",
    "                           'parentrating':average_rating,\n",
    "                           'school_type':school_type,\n",
    "                          'graderange':graderange,\n",
    "                          'school_name':school,\n",
    "                          'gsrating':gsrating,\n",
    "                          'lat':latitude,\n",
    "                          'lon':longitude,\n",
    "                          'city':city})"
   ]
  },
  {
   "cell_type": "code",
   "execution_count": null,
   "metadata": {},
   "outputs": [],
   "source": [
    "for r in "
   ]
  },
  {
   "cell_type": "code",
   "execution_count": 18,
   "metadata": {
    "scrolled": true
   },
   "outputs": [
    {
     "data": {
      "text/html": [
       "<div>\n",
       "<style scoped>\n",
       "    .dataframe tbody tr th:only-of-type {\n",
       "        vertical-align: middle;\n",
       "    }\n",
       "\n",
       "    .dataframe tbody tr th {\n",
       "        vertical-align: top;\n",
       "    }\n",
       "\n",
       "    .dataframe thead th {\n",
       "        text-align: right;\n",
       "    }\n",
       "</style>\n",
       "<table border=\"1\" class=\"dataframe\">\n",
       "  <thead>\n",
       "    <tr style=\"text-align: right;\">\n",
       "      <th></th>\n",
       "      <th>city</th>\n",
       "      <th>enrollment</th>\n",
       "      <th>graderange</th>\n",
       "      <th>gsrating</th>\n",
       "      <th>lat</th>\n",
       "      <th>lon</th>\n",
       "      <th>parentrating</th>\n",
       "      <th>school_name</th>\n",
       "      <th>school_type</th>\n",
       "    </tr>\n",
       "    <tr>\n",
       "      <th>city</th>\n",
       "      <th></th>\n",
       "      <th></th>\n",
       "      <th></th>\n",
       "      <th></th>\n",
       "      <th></th>\n",
       "      <th></th>\n",
       "      <th></th>\n",
       "      <th></th>\n",
       "      <th></th>\n",
       "    </tr>\n",
       "  </thead>\n",
       "  <tbody>\n",
       "    <tr>\n",
       "      <th>Adelanto</th>\n",
       "      <td>[Adelanto]</td>\n",
       "      <td>677.333333</td>\n",
       "      <td>[K-6, 9-12, 1-12, 7-8, PK-6, K-8, K-12]</td>\n",
       "      <td>1.888889</td>\n",
       "      <td>34.540126</td>\n",
       "      <td>-117.416650</td>\n",
       "      <td>3.666667</td>\n",
       "      <td>[Adelanto Elementary School, Adelanto High Sch...</td>\n",
       "      <td>[public, private, charter]</td>\n",
       "    </tr>\n",
       "    <tr>\n",
       "      <th>Agoura Hills</th>\n",
       "      <td>[Agoura Hills]</td>\n",
       "      <td>155.250000</td>\n",
       "      <td>[K, K-8, PK-5, K-1, K-5]</td>\n",
       "      <td>8.000000</td>\n",
       "      <td>34.145822</td>\n",
       "      <td>-118.746799</td>\n",
       "      <td>4.600000</td>\n",
       "      <td>[Born Learners School, Conejo Jewish Day Schoo...</td>\n",
       "      <td>[private, public]</td>\n",
       "    </tr>\n",
       "    <tr>\n",
       "      <th>Alameda</th>\n",
       "      <td>[Alameda]</td>\n",
       "      <td>424.629630</td>\n",
       "      <td>[K-8, 6-12, 9-12, K-5, K-12, K-3, 1-12, K-6, 6...</td>\n",
       "      <td>7.333333</td>\n",
       "      <td>37.765177</td>\n",
       "      <td>-122.260575</td>\n",
       "      <td>4.297297</td>\n",
       "      <td>[Alameda Christian School, Alameda Community L...</td>\n",
       "      <td>[private, charter, public]</td>\n",
       "    </tr>\n",
       "    <tr>\n",
       "      <th>Albany</th>\n",
       "      <td>[Albany]</td>\n",
       "      <td>568.000000</td>\n",
       "      <td>[9-12, 6-8, K-5, 10-12, 6-12 &amp; ungraded]</td>\n",
       "      <td>9.600000</td>\n",
       "      <td>37.892063</td>\n",
       "      <td>-122.295696</td>\n",
       "      <td>4.000000</td>\n",
       "      <td>[Albany High School, Albany Middle School, Cor...</td>\n",
       "      <td>[public, private]</td>\n",
       "    </tr>\n",
       "    <tr>\n",
       "      <th>Alhambra</th>\n",
       "      <td>[Alhambra]</td>\n",
       "      <td>574.086957</td>\n",
       "      <td>[9-12, PK-4, PK-5, K-8, K-12, K, PK-6]</td>\n",
       "      <td>7.272727</td>\n",
       "      <td>34.088875</td>\n",
       "      <td>-118.134868</td>\n",
       "      <td>3.833333</td>\n",
       "      <td>[Alhambra High School, All Souls Elementary Sc...</td>\n",
       "      <td>[public, private]</td>\n",
       "    </tr>\n",
       "  </tbody>\n",
       "</table>\n",
       "</div>"
      ],
      "text/plain": [
       "                        city  enrollment  \\\n",
       "city                                       \n",
       "Adelanto          [Adelanto]  677.333333   \n",
       "Agoura Hills  [Agoura Hills]  155.250000   \n",
       "Alameda            [Alameda]  424.629630   \n",
       "Albany              [Albany]  568.000000   \n",
       "Alhambra          [Alhambra]  574.086957   \n",
       "\n",
       "                                                     graderange  gsrating  \\\n",
       "city                                                                        \n",
       "Adelanto                [K-6, 9-12, 1-12, 7-8, PK-6, K-8, K-12]  1.888889   \n",
       "Agoura Hills                           [K, K-8, PK-5, K-1, K-5]  8.000000   \n",
       "Alameda       [K-8, 6-12, 9-12, K-5, K-12, K-3, 1-12, K-6, 6...  7.333333   \n",
       "Albany                 [9-12, 6-8, K-5, 10-12, 6-12 & ungraded]  9.600000   \n",
       "Alhambra                 [9-12, PK-4, PK-5, K-8, K-12, K, PK-6]  7.272727   \n",
       "\n",
       "                    lat         lon  parentrating  \\\n",
       "city                                                \n",
       "Adelanto      34.540126 -117.416650      3.666667   \n",
       "Agoura Hills  34.145822 -118.746799      4.600000   \n",
       "Alameda       37.765177 -122.260575      4.297297   \n",
       "Albany        37.892063 -122.295696      4.000000   \n",
       "Alhambra      34.088875 -118.134868      3.833333   \n",
       "\n",
       "                                                    school_name  \\\n",
       "city                                                              \n",
       "Adelanto      [Adelanto Elementary School, Adelanto High Sch...   \n",
       "Agoura Hills  [Born Learners School, Conejo Jewish Day Schoo...   \n",
       "Alameda       [Alameda Christian School, Alameda Community L...   \n",
       "Albany        [Albany High School, Albany Middle School, Cor...   \n",
       "Alhambra      [Alhambra High School, All Souls Elementary Sc...   \n",
       "\n",
       "                             school_type  \n",
       "city                                      \n",
       "Adelanto      [public, private, charter]  \n",
       "Agoura Hills           [private, public]  \n",
       "Alameda       [private, charter, public]  \n",
       "Albany                 [public, private]  \n",
       "Alhambra               [public, private]  "
      ]
     },
     "execution_count": 18,
     "metadata": {},
     "output_type": "execute_result"
    }
   ],
   "source": [
    "city_group.head()"
   ]
  },
  {
   "cell_type": "code",
   "execution_count": 10,
   "metadata": {},
   "outputs": [
    {
     "data": {
      "text/plain": [
       "490"
      ]
     },
     "execution_count": 10,
     "metadata": {},
     "output_type": "execute_result"
    }
   ],
   "source": [
    "len(city_group['enrollment'])"
   ]
  },
  {
   "cell_type": "code",
   "execution_count": 12,
   "metadata": {},
   "outputs": [],
   "source": [
    "city_group.to_csv(\"city_school.csv\",index=False)"
   ]
  },
  {
   "cell_type": "code",
   "execution_count": null,
   "metadata": {},
   "outputs": [],
   "source": []
  }
 ],
 "metadata": {
  "kernelspec": {
   "display_name": "Python [conda env:myenvironment]",
   "language": "python",
   "name": "conda-env-myenvironment-py"
  },
  "language_info": {
   "codemirror_mode": {
    "name": "ipython",
    "version": 3
   },
   "file_extension": ".py",
   "mimetype": "text/x-python",
   "name": "python",
   "nbconvert_exporter": "python",
   "pygments_lexer": "ipython3",
   "version": "3.6.4"
  }
 },
 "nbformat": 4,
 "nbformat_minor": 2
}
